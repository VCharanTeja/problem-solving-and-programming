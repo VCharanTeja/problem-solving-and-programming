{
 "cells": [
  {
   "cell_type": "markdown",
   "metadata": {},
   "source": [
    "## function to create a file and write some data"
   ]
  },
  {
   "cell_type": "code",
   "execution_count": 7,
   "metadata": {},
   "outputs": [
    {
     "name": "stdout",
     "output_type": "stream",
     "text": [
      "file is created successfully and data is written\n"
     ]
    }
   ],
   "source": [
    "def createFile(filename):\n",
    "    f=open(filename,\"w\")\n",
    "    for i in range(10):\n",
    "        f.write(\"this is %d line\\n\"%i)\n",
    "    print(\"file is created successfully and data is written\")\n",
    "    f.close()\n",
    "    return\n",
    "createFile(\"file.txt\")\n"
   ]
  },
  {
   "cell_type": "markdown",
   "metadata": {},
   "source": [
    "## function for reading the file"
   ]
  },
  {
   "cell_type": "code",
   "execution_count": 7,
   "metadata": {},
   "outputs": [
    {
     "name": "stdout",
     "output_type": "stream",
     "text": [
      "this is 0 line\n",
      "this is 1 line\n",
      "this is 2 line\n",
      "this is 3 line\n",
      "this is 4 line\n",
      "this is 5 line\n",
      "this is 6 line\n",
      "this is 7 line\n",
      "this is 8 line\n",
      "this is 9 line\n",
      "\n"
     ]
    }
   ],
   "source": [
    "def readfile(filename):\n",
    "    f=open(filename,\"r\")\n",
    "    if f.mode==\"r\":\n",
    "        x=f.read()\n",
    "        print(x)\n",
    "    f.close()\n",
    "    return\n",
    "\n",
    "readfile(\"file.txt\")"
   ]
  },
  {
   "cell_type": "code",
   "execution_count": 8,
   "metadata": {},
   "outputs": [
    {
     "name": "stdout",
     "output_type": "stream",
     "text": [
      "51\n"
     ]
    }
   ],
   "source": [
    "kvps={'1':1,'2':2,'3':3,'4':4,'5':5}\n",
    "newdata={'1':10,'3':30}\n",
    "kvps.update(newdata)\n",
    "x=sum(kvps.values())\n",
    "print(x)\n"
   ]
  },
  {
   "cell_type": "markdown",
   "metadata": {},
   "source": [
    "## append data to existing file"
   ]
  },
  {
   "cell_type": "code",
   "execution_count": 8,
   "metadata": {},
   "outputs": [],
   "source": [
    "def appendData(filename):\n",
    "    f=open(filename,\"a\")\n",
    "    f.write(\"new line 1\\n\")\n",
    "    f.write(\"new line 2\\n\")\n",
    "    f.close()\n",
    "    return\n",
    "appendData(\"file.txt\")\n"
   ]
  },
  {
   "cell_type": "code",
   "execution_count": 2,
   "metadata": {},
   "outputs": [
    {
     "name": "stdout",
     "output_type": "stream",
     "text": [
      " Volume in drive C has no label.\n",
      " Volume Serial Number is AC3A-4A50\n",
      "\n",
      " Directory of C:\\Users\\Ammu\n",
      "\n",
      "27-06-2019  11:06    <DIR>          .\n",
      "27-06-2019  11:06    <DIR>          ..\n",
      "17-06-2019  10:44    <DIR>          .anaconda\n",
      "16-11-2018  23:35            77,943 .babel.json\n",
      "25-06-2019  16:30               445 .bash_history\n",
      "17-06-2019  15:07    <DIR>          .conda\n",
      "17-06-2019  10:46                43 .condarc\n",
      "15-11-2018  22:03    <DIR>          .config\n",
      "27-06-2019  09:26    <DIR>          .ipynb_checkpoints\n",
      "17-06-2019  10:49    <DIR>          .ipython\n",
      "21-06-2019  14:22    <DIR>          .jupyter\n",
      "16-11-2018  04:09                 0 .mongorc.js\n",
      "14-03-2018  12:03    <DIR>          .nbi\n",
      "15-11-2018  22:12                12 .node_repl_history\n",
      "15-11-2018  22:26                60 .npmrc\n",
      "16-11-2018  04:15             4,575 .v8flags.7.0.276.28-node.5.5fb1700d2e311e45944cbd85edcadf67.json\n",
      "12-07-2018  10:06    <DIR>          .VirtualBox\n",
      "14-11-2018  23:18    <DIR>          .vscode\n",
      "15-06-2019  11:19    <DIR>          Anaconda3\n",
      "26-02-2018  15:00    <DIR>          Contacts\n",
      "22-06-2019  15:52             9,452 control flow.ipynb\n",
      "25-06-2019  16:07             8,321 data structures.ipynb\n",
      "19-06-2019  17:28    <DIR>          Desktop\n",
      "19-06-2019  16:30    <DIR>          Documents\n",
      "26-06-2019  16:21    <DIR>          Downloads\n",
      "26-02-2018  15:00    <DIR>          Favorites\n",
      "27-06-2019  11:07               304 file.txt\n",
      "01-08-2018  09:21                 9 har resh.aux\n",
      "01-08-2018  09:21            20,680 har resh.log\n",
      "01-08-2018  09:21            12,956 har resh.pdf\n",
      "01-08-2018  09:21               712 har resh.synctex.gz\n",
      "01-08-2018  09:21               152 har resh.tex\n",
      "15-11-2018  23:23    <DIR>          invoice\n",
      "01-08-2018  09:24                89 L.aux\n",
      "01-08-2018  09:24            19,755 L.log\n",
      "01-08-2018  09:24            14,323 L.pdf\n",
      "01-08-2018  09:24             1,234 L.synctex.gz\n",
      "01-08-2018  09:24               462 L.tex\n",
      "01-08-2018  09:34                81 letter 34.aux\n",
      "01-08-2018  09:34            19,808 letter 34.log\n",
      "01-08-2018  09:34            18,997 letter 34.pdf\n",
      "01-08-2018  09:34             1,465 letter 34.synctex.gz\n",
      "01-08-2018  09:34               545 letter 34.tex\n",
      "26-02-2018  15:00    <DIR>          Links\n",
      "24-06-2019  17:07            11,759 lists in python.ipynb\n",
      "15-06-2019  12:17    <DIR>          Music\n",
      "12-09-2018  09:10                32 nithin.aux\n",
      "12-09-2018  09:10            24,593 nithin.log\n",
      "12-09-2018  09:10            16,013 nithin.pdf\n",
      "12-09-2018  09:10               814 nithin.synctex.gz\n",
      "12-09-2018  09:10               231 nithin.tex\n",
      "01-08-2018  09:19                 9 ooooo.aux\n",
      "01-08-2018  09:19            20,650 ooooo.log\n",
      "01-08-2018  09:19            12,097 ooooo.pdf\n",
      "01-08-2018  09:19               674 ooooo.synctex.gz\n",
      "01-08-2018  09:19               143 ooooo.tex\n",
      "22-06-2019  11:22             5,391 operator.ipynb\n",
      "21-06-2019  17:11             4,562 operators.ipynb\n",
      "21-06-2019  17:21             4,603 Operators.py\n",
      "31-07-2018  10:09                 9 padmaja.aux\n",
      "31-07-2018  10:09            27,279 padmaja.log\n",
      "31-07-2018  10:09            16,437 padmaja.pdf\n",
      "31-07-2018  10:09             1,280 padmaja.synctex.gz\n",
      "31-07-2018  10:15               992 padmaja.tex\n",
      "14-08-2018  08:25    <DIR>          Pictures\n",
      "27-06-2019  11:06             2,912 python 6.ipynb\n",
      "31-07-2018  10:18                69 sample.aux\n",
      "31-07-2018  10:18            19,779 sample.log\n",
      "31-07-2018  10:18            16,409 sample.pdf\n",
      "31-07-2018  10:18             1,122 sample.synctex.gz\n",
      "31-07-2018  10:18               397 sample.tex\n",
      "26-02-2018  15:00    <DIR>          Saved Games\n",
      "26-09-2018  23:07    <DIR>          Searches\n",
      "26-06-2019  17:18            21,918 string functions.ipynb\n",
      "17-06-2019  10:50               846 Untitled.ipynb\n",
      "21-06-2019  14:24                72 Untitled1.ipynb\n",
      "21-06-2019  15:06               845 Untitled2.ipynb\n",
      "26-02-2018  15:00    <DIR>          Videos\n",
      "14-03-2018  15:21    <DIR>          VirtualBox VMs\n",
      "              54 File(s)        424,360 bytes\n",
      "              25 Dir(s)  67,668,762,624 bytes free\n"
     ]
    }
   ],
   "source": [
    "ls"
   ]
  },
  {
   "cell_type": "code",
   "execution_count": 9,
   "metadata": {},
   "outputs": [
    {
     "name": "stdout",
     "output_type": "stream",
     "text": [
      "0\n"
     ]
    }
   ],
   "source": [
    "def dataAnalysisWordCount(filename,word):\n",
    "    f=open(filename,\"r\")\n",
    "    if f.mode==\"r\":\n",
    "        x=f.read()\n",
    "        lst=x.split()\n",
    "        cnt=lst.count(word)\n",
    "        return cnt\n",
    "print(dataAnalysisWordCount(\"file.txt\",\"rest\"))"
   ]
  },
  {
   "cell_type": "markdown",
   "metadata": {},
   "source": [
    "## function to count"
   ]
  },
  {
   "cell_type": "code",
   "execution_count": 10,
   "metadata": {},
   "outputs": [
    {
     "name": "stdout",
     "output_type": "stream",
     "text": [
      "172\n"
     ]
    }
   ],
   "source": [
    "def countCharacter(filename):\n",
    "    f=open(filename,\"r\")\n",
    "    if f.mode==\"r\":\n",
    "        x=f.read()\n",
    "        lst=list(x)\n",
    "    return len(lst)\n",
    "print(countCharacter(\"file.txt\"))"
   ]
  },
  {
   "cell_type": "markdown",
   "metadata": {},
   "source": [
    "## function to count the upper case characters from the given file"
   ]
  },
  {
   "cell_type": "code",
   "execution_count": 11,
   "metadata": {},
   "outputs": [
    {
     "data": {
      "text/plain": [
       "0"
      ]
     },
     "execution_count": 11,
     "metadata": {},
     "output_type": "execute_result"
    }
   ],
   "source": [
    "def upperCaseCount(filename):\n",
    "    cntupper=0\n",
    "    f=open(filename,\"r\")\n",
    "    if f.mode==\"r\":\n",
    "        x=f.read()\n",
    "        lst=list(x)\n",
    "    for i in lst:\n",
    "        if i.isupper():\n",
    "            cntupper+=1\n",
    "    return cntupper\n",
    "upperCaseCount(\"file.txt\")"
   ]
  },
  {
   "cell_type": "markdown",
   "metadata": {},
   "source": [
    "## function to count of lines in given file"
   ]
  },
  {
   "cell_type": "code",
   "execution_count": 13,
   "metadata": {},
   "outputs": [
    {
     "data": {
      "text/plain": [
       "13"
      ]
     },
     "execution_count": 13,
     "metadata": {},
     "output_type": "execute_result"
    }
   ],
   "source": [
    "def countlines(filename):\n",
    "    f=open(filename,\"r\")\n",
    "    if f.mode==\"r\":\n",
    "        x=f.read()\n",
    "        lst=x.split(\"\\n\")\n",
    "    return len(lst)\n",
    "countlines(\"file.txt\")"
   ]
  },
  {
   "cell_type": "code",
   "execution_count": 16,
   "metadata": {},
   "outputs": [
    {
     "name": "stdout",
     "output_type": "stream",
     "text": [
      "True\n",
      "False\n"
     ]
    }
   ],
   "source": [
    "import re\n",
    "def phonenumbervalidate(phone):\n",
    "    pattern='^[6-9][0-9]{9}$'\n",
    "    phone=str(phone)\n",
    "    if re.match(pattern,phone):\n",
    "        return True\n",
    "    return False\n",
    "print(phonenumbervalidate(9966338855))\n",
    "print(phonenumbervalidate(996633885))"
   ]
  },
  {
   "cell_type": "code",
   "execution_count": 17,
   "metadata": {},
   "outputs": [
    {
     "name": "stdout",
     "output_type": "stream",
     "text": [
      "True\n",
      "False\n"
     ]
    }
   ],
   "source": [
    "import re\n",
    "def validaterollnumber(number):\n",
    "    number=str(number)\n",
    "    pattern='^[1][5][2][U][1][A][0][1-9][0-6][0-9]'\n",
    "    if re.match(pattern,number):\n",
    "        return True\n",
    "    return False\n",
    "print(validaterollnumber(\"152U1A0555\"))\n",
    "print(validaterollnumber(\"152U1A0485\"))"
   ]
  },
  {
   "cell_type": "code",
   "execution_count": 18,
   "metadata": {},
   "outputs": [
    {
     "name": "stdout",
     "output_type": "stream",
     "text": [
      "False\n",
      "True\n"
     ]
    }
   ],
   "source": [
    "import re  \n",
    "def validateEmailID(email):\n",
    "    pattern=\"^[0-9a-z][0-9a-z_.]{4,13}[0-9a-z][@][a-z0-9]{3,18}[.][a-z]{2,4}$\"\n",
    "    if re.match(pattern,email):\n",
    "        return True\n",
    "    return False\n",
    "\n",
    "print(validateEmailID(\"$anil.1889@gmail.com\"))\n",
    "print(validateEmailID(\"vsra2000@gmail.com\"))\n",
    "\n"
   ]
  },
  {
   "cell_type": "code",
   "execution_count": 21,
   "metadata": {},
   "outputs": [
    {
     "name": "stdout",
     "output_type": "stream",
     "text": [
      "True\n",
      "False\n"
     ]
    }
   ],
   "source": [
    "import re  \n",
    "def validatePassword(s):\n",
    "    pattern=\"^[a-zA-Z0-9!@#$]{6,15}$\"\n",
    "    if re.match(pattern,s):\n",
    "        return True\n",
    "    return False\n",
    "\n",
    "print(validatePassword(\"emerald@306\"))\n",
    "print(validatePassword(\"emerald@306686656\"))"
   ]
  },
  {
   "cell_type": "markdown",
   "metadata": {},
   "source": [
    "## file on virtual machine or local machine"
   ]
  },
  {
   "cell_type": "code",
   "execution_count": 22,
   "metadata": {},
   "outputs": [
    {
     "name": "stdout",
     "output_type": "stream",
     "text": [
      "file is created successfully and data is written\n"
     ]
    }
   ],
   "source": [
    "def createFile(filename):\n",
    "    f=open(filename,\"w\")\n",
    "    for i in range(10):\n",
    "        f.write(\"this is %d line\\n\"%i)\n",
    "    print(\"file is created successfully and data is written\")\n",
    "    f.close()\n",
    "    return\n",
    "createFile(\"local machine.txt\")"
   ]
  },
  {
   "cell_type": "code",
   "execution_count": 23,
   "metadata": {},
   "outputs": [],
   "source": [
    "def appendData(filename):\n",
    "    f=open(filename,\"a\")\n",
    "    f.write(\"new line 1\\n\")\n",
    "    f.write(\"new line 2\\n\")\n",
    "    f.close()\n",
    "    return\n",
    "appendData(\"localmachine.txt\")\n"
   ]
  },
  {
   "cell_type": "code",
   "execution_count": 25,
   "metadata": {},
   "outputs": [
    {
     "data": {
      "text/plain": [
       "14"
      ]
     },
     "execution_count": 25,
     "metadata": {},
     "output_type": "execute_result"
    }
   ],
   "source": [
    "def lowerCaseCount(filename):\n",
    "    cntlower=0\n",
    "    f=open(filename,\"r\")\n",
    "    if f.mode==\"r\":\n",
    "        x=f.read()\n",
    "        lst=list(x)\n",
    "    for i in lst:\n",
    "        if i.islower():\n",
    "            cntlower+=1\n",
    "    return cntlower\n",
    "lowerCaseCount(\"localmachine.txt\")"
   ]
  },
  {
   "cell_type": "code",
   "execution_count": null,
   "metadata": {},
   "outputs": [],
   "source": []
  }
 ],
 "metadata": {
  "kernelspec": {
   "display_name": "Python 3",
   "language": "python",
   "name": "python3"
  },
  "language_info": {
   "codemirror_mode": {
    "name": "ipython",
    "version": 3
   },
   "file_extension": ".py",
   "mimetype": "text/x-python",
   "name": "python",
   "nbconvert_exporter": "python",
   "pygments_lexer": "ipython3",
   "version": "3.7.3"
  },
  "widgets": {
   "application/vnd.jupyter.widget-state+json": {
    "state": {},
    "version_major": 2,
    "version_minor": 0
   }
  }
 },
 "nbformat": 4,
 "nbformat_minor": 2
}
